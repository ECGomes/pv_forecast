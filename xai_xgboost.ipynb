{
 "cells": [
  {
   "cell_type": "code",
   "execution_count": 1,
   "id": "b56bc0ba",
   "metadata": {
    "code_folding": [
     0
    ],
    "ExecuteTime": {
     "end_time": "2023-09-12T00:52:27.317312800Z",
     "start_time": "2023-09-12T00:52:25.911953200Z"
    }
   },
   "outputs": [
    {
     "name": "stderr",
     "output_type": "stream",
     "text": [
      "Using `tqdm.autonotebook.tqdm` in notebook mode. Use `tqdm.tqdm` instead to force console mode (e.g. in jupyter console)\n"
     ]
    }
   ],
   "source": [
    "# Imports\n",
    "\n",
    "import numpy as np\n",
    "import pandas as pd\n",
    "import sklearn\n",
    "import matplotlib.pyplot as plt\n",
    "import glob\n",
    "\n",
    "import scipy.signal\n",
    "\n",
    "import shap\n",
    "\n",
    "import xgboost as xgb\n",
    "\n",
    "from joblib import dump, load\n",
    "\n",
    "from sklearn.preprocessing import MinMaxScaler\n",
    "\n",
    "from pandas.tseries.offsets import MonthEnd\n",
    "\n",
    "import seaborn as sb\n",
    "\n",
    "import IPython"
   ]
  },
  {
   "cell_type": "code",
   "execution_count": 4,
   "id": "ba84b420",
   "metadata": {
    "code_folding": [
     0
    ],
    "ExecuteTime": {
     "end_time": "2023-09-12T00:53:29.604160200Z",
     "start_time": "2023-09-12T00:53:29.582327700Z"
    }
   },
   "outputs": [],
   "source": [
    "# Aux Functions for Solcast and PV data processing\n",
    "\n",
    "def get_solcast(path):\n",
    "    file = pd.read_csv(path)\n",
    "    file.index = pd.to_datetime(file['PeriodEnd'])\n",
    "    file.drop(columns=['PeriodEnd', 'PeriodStart', 'Period'], inplace=True)\n",
    "    file = file.resample('15T').bfill()\n",
    "\n",
    "    return file\n",
    "\n",
    "\n",
    "def get_pv(path):\n",
    "    file = pd.read_csv(path)\n",
    "    file.index = pd.to_datetime(file['datetime_utc'])\n",
    "    file.drop(columns=['datetime_utc'], inplace=True)\n",
    "    file = file.resample('15T').mean()\n",
    "\n",
    "    return file\n",
    "\n",
    "\n",
    "def get_solcastPV(df1, df2):\n",
    "    '''\n",
    "    df1: PV dataframe\n",
    "    df2: Solcast dataframe\n",
    "    '''\n",
    "\n",
    "    # Filter both dataframes for 2019 and 2020\n",
    "    try:\n",
    "        temp_df1 = df1['2019':'2021-04-01']\n",
    "        temp_df2 = df2['2019':'2021-04-01']\n",
    "\n",
    "        # Check if data is complete. If not, match the smaller indexes\n",
    "        if temp_df2.shape[0] < temp_df1.shape[0]:\n",
    "            last_entry = temp_df2.index\n",
    "            temp_df1 = temp_df1.loc['2019':'{}'.format(temp_df2.index[-1].tz_convert(None))]\n",
    "\n",
    "\n",
    "        # Only considering 2019 and 2020 since data is complete for that period\n",
    "        temp_data = pd.DataFrame({'PV': temp_df1['pv'].values}, index=temp_df1.index)\n",
    "\n",
    "        #for i in np.arange(3, len(temp_df2.columns)):\n",
    "        #    temp_data[temp_df2.columns[i]] = temp_df2[temp_df2.columns[i]].shift(-1).values\n",
    "\n",
    "        for col in temp_df2.columns:\n",
    "            temp_data[col] = temp_df2[col].shift(-1).values\n",
    "\n",
    "        return temp_data\n",
    "    except:\n",
    "        temp_df1 = df1['2019':'2020']\n",
    "        temp_df2 = df2['2019':'2020']\n",
    "\n",
    "        # Check if data is complete. If not, match the smaller indexes\n",
    "        if temp_df2.shape[0] < temp_df1.shape[0]:\n",
    "            last_entry = temp_df2.index\n",
    "            temp_df1 = temp_df1['2019':'{}'.format(temp_df2.index[-1].tz_convert(None))]\n",
    "\n",
    "\n",
    "        # Only considering 2019 and 2020 since data is complete for that period\n",
    "        temp_data = pd.DataFrame({'PV': temp_df1['pv'].values}, index=temp_df1.index)\n",
    "        #for i in np.arange(3, len(temp_df2.columns)):\n",
    "        #    temp_data[temp_df2.columns[i]] = temp_df2[temp_df2.columns[i]].shift(-1).values\n",
    "\n",
    "        for col in temp_df2.columns:\n",
    "            temp_data[col] = temp_df2[col].shift(-1).values\n",
    "\n",
    "        return temp_data"
   ]
  },
  {
   "cell_type": "code",
   "execution_count": 5,
   "id": "62741ad6",
   "metadata": {
    "code_folding": [
     0
    ],
    "ExecuteTime": {
     "end_time": "2023-09-12T00:53:41.322162200Z",
     "start_time": "2023-09-12T00:53:30.270135600Z"
    }
   },
   "outputs": [
    {
     "name": "stdout",
     "output_type": "stream",
     "text": [
      "upac02 date range: 2019-01-01 00:00:00 - 2020-06-15 22:30:00\n",
      "upac06 date range: 2019-01-01 00:00:00 - 2020-06-15 22:30:00\n",
      "upac08 date range: 2019-01-01 00:00:00 - 2021-04-01 23:45:00\n",
      "upac09 date range: 2019-01-01 00:00:00 - 2020-12-31 23:45:00\n",
      "upac13 date range: 2019-01-01 00:00:00 - 2020-12-31 23:45:00\n"
     ]
    }
   ],
   "source": [
    "# Get data and build a dictionary for preprocessing\n",
    "\n",
    "data = {}\n",
    "\n",
    "folders = glob.glob('data/*')\n",
    "for folder in folders:\n",
    "    # Load each of the files inside the folder\n",
    "    temp_pv = get_pv('{}/pv.csv'.format(folder))\n",
    "    temp_solcast = get_solcast('{}/solcast.csv'.format(folder))\n",
    "\n",
    "    # Join the files into a single dataframe\n",
    "    temp_upac = get_solcastPV(temp_pv, temp_solcast)\n",
    "\n",
    "    temp_name = folder.split('\\\\')[1]\n",
    "    data[temp_name] = temp_upac\n",
    "\n",
    "    print('{} date range: {} - {}'.format(temp_name, temp_upac.index[0], temp_upac.index[-1]))"
   ]
  },
  {
   "cell_type": "code",
   "execution_count": 6,
   "id": "588165ad",
   "metadata": {
    "code_folding": [
     0
    ],
    "ExecuteTime": {
     "end_time": "2023-09-12T00:59:18.153614500Z",
     "start_time": "2023-09-12T00:59:18.135761900Z"
    }
   },
   "outputs": [],
   "source": [
    "# Aux Functions for adding 2D time information\n",
    "\n",
    "import datetime\n",
    "\n",
    "def days_2d(df):\n",
    "    '''\n",
    "    Adds 2D time information for single days\n",
    "    df: dataframe to add the information\n",
    "    '''\n",
    "    # Map the index into seconds\n",
    "    timestamp_s = pd.to_datetime(df.index.values).map(datetime.datetime.timestamp)\n",
    "    \n",
    "    # Since we're calculating the cos and sin values from seconds, it's 60 seconds into 60 min into 24 hours per day\n",
    "    day_calc = 24*60*60\n",
    "    \n",
    "    # Calculate the values\n",
    "    dayx = np.cos((2*np.pi/day_calc) * timestamp_s)\n",
    "    dayy = np.sin((2*np.pi/day_calc) * timestamp_s)\n",
    "    \n",
    "    return dayx, dayy\n",
    "    \n",
    "\n",
    "def years_2d(df):\n",
    "    '''\n",
    "    Adds 2D time representation throught a year\n",
    "    df: dataframe to add the information\n",
    "    '''\n",
    "    # Add Year Information\n",
    "\n",
    "    day_year = df.index.dayofyear\n",
    "    year_constant = 365.2524\n",
    "\n",
    "    yearx = np.cos((2*np.pi/year_constant) * day_year)\n",
    "    yeary = np.sin((2*np.pi/year_constant) * day_year)\n",
    "    \n",
    "    return yearx, yeary"
   ]
  },
  {
   "cell_type": "code",
   "execution_count": 7,
   "id": "a97391c8",
   "metadata": {
    "code_folding": [
     0
    ],
    "ExecuteTime": {
     "end_time": "2023-09-12T00:59:19.661876800Z",
     "start_time": "2023-09-12T00:59:18.976277800Z"
    }
   },
   "outputs": [],
   "source": [
    "# Add the 2D time information to the data\n",
    "\n",
    "for upac in data.keys():\n",
    "    dayx, dayy = days_2d(data[upac])\n",
    "    yearx, yeary = years_2d(data[upac])\n",
    "    \n",
    "    data[upac]['Day X'] = dayx\n",
    "    data[upac]['Day Y'] = dayy\n",
    "    \n",
    "    data[upac]['Year X'] = yearx\n",
    "    data[upac]['Year Y'] = yeary"
   ]
  },
  {
   "cell_type": "code",
   "execution_count": 9,
   "id": "077ab076",
   "metadata": {
    "code_folding": [
     0
    ],
    "ExecuteTime": {
     "end_time": "2023-09-12T00:59:31.334420700Z",
     "start_time": "2023-09-12T00:59:31.274609Z"
    }
   },
   "outputs": [],
   "source": [
    "# Split the data for training, validation and testing\n",
    "\n",
    "data_train = {}\n",
    "data_val = {}\n",
    "data_test = {}\n",
    "\n",
    "for upac in data.keys():\n",
    "    data_train[upac] = data[upac].loc['2019']\n",
    "    data_val[upac] = data[upac].loc['2020-01':'2020-03']\n",
    "    data_test[upac] = data[upac].loc['2020-04':]"
   ]
  },
  {
   "cell_type": "code",
   "execution_count": 10,
   "id": "632baacb",
   "metadata": {
    "code_folding": [
     0
    ],
    "ExecuteTime": {
     "end_time": "2023-09-12T00:59:33.970047500Z",
     "start_time": "2023-09-12T00:59:33.941844900Z"
    }
   },
   "outputs": [],
   "source": [
    "# Aux Function for filtering data\n",
    "\n",
    "def filter_by_points(df, frequency='D', num_points=1440, return_dictionary=False):\n",
    "\n",
    "    df_dropped = df.dropna()\n",
    "    grouper = df_dropped.groupby(pd.Grouper(freq=frequency))\n",
    "\n",
    "    output = 0\n",
    "    if return_dictionary:\n",
    "        new_dict = {}\n",
    "        for i in grouper:\n",
    "            if len(i[1]) != num_points:\n",
    "                pass\n",
    "            else:\n",
    "                new_dict[i[0]] = pd.DataFrame(i[1])\n",
    "        output = new_dict\n",
    "    else:\n",
    "        new_df = pd.DataFrame({})\n",
    "        for i in grouper:\n",
    "            if len(i[1]) != num_points:\n",
    "                pass\n",
    "            else:\n",
    "                new_df = pd.concat([new_df, pd.DataFrame(i[1])], axis=0)\n",
    "\n",
    "        output = new_df\n",
    "\n",
    "    return output"
   ]
  },
  {
   "cell_type": "code",
   "execution_count": 11,
   "id": "5ea94274",
   "metadata": {
    "code_folding": [
     0
    ],
    "ExecuteTime": {
     "end_time": "2023-09-12T00:59:38.258464800Z",
     "start_time": "2023-09-12T00:59:34.604826200Z"
    }
   },
   "outputs": [],
   "source": [
    "# Filter the data by number of points that should be present in a single day\n",
    "\n",
    "filtered_train = {}\n",
    "filtered_val = {}\n",
    "filtered_test = {}\n",
    "\n",
    "for upac in data_train.keys():\n",
    "    filtered_train[upac] = filter_by_points(data_train[upac], frequency='D', num_points=1440/15)\n",
    "    filtered_val[upac] = filter_by_points(data_val[upac], frequency='D', num_points=1440/15)\n",
    "    filtered_test[upac] = filter_by_points(data_test[upac], frequency='D', num_points=1440/15)"
   ]
  },
  {
   "cell_type": "code",
   "execution_count": 12,
   "id": "d067be1b",
   "metadata": {
    "code_folding": [
     0
    ],
    "ExecuteTime": {
     "end_time": "2023-09-12T00:59:40.230092100Z",
     "start_time": "2023-09-12T00:59:40.205281400Z"
    }
   },
   "outputs": [],
   "source": [
    "# Select columns to use\n",
    "\n",
    "#USED_COLUMNS = ['PV',\n",
    "#                'AirTemp',\n",
    "#                'CloudOpacity',\n",
    "#                'Ghi',\n",
    "#                'GtiFixedTilt',\n",
    "#                'Day Y', 'Day X',\n",
    "#                'Year Y', 'Year X']\n",
    "\n",
    "USED_COLUMNS = list(filtered_train['upac02'].columns)"
   ]
  },
  {
   "cell_type": "code",
   "execution_count": 13,
   "id": "99b261b0",
   "metadata": {
    "code_folding": [
     0
    ],
    "ExecuteTime": {
     "end_time": "2023-09-12T00:59:41.272104600Z",
     "start_time": "2023-09-12T00:59:41.201355500Z"
    }
   },
   "outputs": [],
   "source": [
    "# Data Normalization\n",
    "# We don't want to normalize PV so we can capture differences more easily -> Normalize using scikit-learn\n",
    "\n",
    "# Feature range\n",
    "# PV - greater than 0\n",
    "# AirTemp - Unchanged\n",
    "# Cloud Opacity and Ghi - between 0 and 1\n",
    "# Day X, Y and Year X and Y - already between -1 and 1\n",
    "\n",
    "#MAX_OPACITY = 100\n",
    "#MAX_HUMIDITY = 100\n",
    "#MAX_GHI = 1023 # max value on the training set\n",
    "#MAX_GTI = 1071 # max value on the training set\n",
    "\n",
    "normalized_train = {}\n",
    "normalized_val = {}\n",
    "normalized_test = {}\n",
    "\n",
    "scaler_dict = {}\n",
    "\n",
    "for upac in filtered_train.keys():\n",
    "\n",
    "    # Create the scaler\n",
    "    scaler = MinMaxScaler(feature_range=(0, 1))\n",
    "    normalized_train[upac] = pd.DataFrame(scaler.fit_transform(filtered_train[upac]), columns=USED_COLUMNS, index=filtered_train[upac].index)\n",
    "    normalized_val[upac] = pd.DataFrame(scaler.transform(filtered_val[upac]), columns=USED_COLUMNS, index=filtered_val[upac].index)\n",
    "    normalized_test[upac] = pd.DataFrame(scaler.transform(filtered_test[upac]), columns=USED_COLUMNS, index=filtered_test[upac].index)\n",
    "\n",
    "    # Append the scaler to reverse the transformations\n",
    "    scaler_dict[upac] = scaler\n",
    "\n",
    "    #normalized_train[upac] = filtered_train[upac][USED_COLUMNS].copy(deep=True)\n",
    "    #normalized_val[upac] = filtered_val[upac][USED_COLUMNS].copy(deep=True)\n",
    "    #normalized_test[upac] = filtered_test[upac][USED_COLUMNS].copy(deep=True)\n",
    "\n",
    "    #normalized_train[upac]['CloudOpacity'] = normalized_train[upac]['CloudOpacity'] / MAX_OPACITY\n",
    "    #normalized_val[upac]['CloudOpacity'] = normalized_val[upac]['CloudOpacity'] / MAX_OPACITY\n",
    "    #normalized_test[upac]['CloudOpacity'] = normalized_test[upac]['CloudOpacity'] / MAX_OPACITY\n",
    "\n",
    "    #normalized_train[upac]['Ghi'] = normalized_train[upac]['Ghi'] / MAX_GHI\n",
    "    #normalized_val[upac]['Ghi'] = normalized_val[upac]['Ghi'] / MAX_GHI\n",
    "    #normalized_test[upac]['Ghi'] = normalized_test[upac]['Ghi'] / MAX_GHI\n",
    "\n",
    "    #normalized_train[upac]['GtiFixedTilt'] = normalized_train[upac]['GtiFixedTilt'] / MAX_GTI\n",
    "    #normalized_val[upac]['GtiFixedTilt'] = normalized_val[upac]['GtiFixedTilt'] / MAX_GTI\n",
    "    #normalized_test[upac]['GtiFixedTilt'] = normalized_test[upac]['GtiFixedTilt'] / MAX_GTI"
   ]
  },
  {
   "cell_type": "code",
   "execution_count": 14,
   "id": "3dc02a28",
   "metadata": {
    "code_folding": [
     0
    ],
    "ExecuteTime": {
     "end_time": "2023-09-12T01:00:12.855169800Z",
     "start_time": "2023-09-12T01:00:12.808276Z"
    }
   },
   "outputs": [],
   "source": [
    "# Split the data into X and y\n",
    "\n",
    "X_train = {}\n",
    "y_train = {}\n",
    "\n",
    "X_val = {}\n",
    "y_val = {}\n",
    "\n",
    "X_test = {}\n",
    "y_test = {}\n",
    "\n",
    "for upac in normalized_train.keys():\n",
    "    trainx = normalized_train[upac].drop('PV', axis=1)\n",
    "    trainy = normalized_train[upac]['PV']\n",
    "    valx = normalized_val[upac].drop('PV', axis=1)\n",
    "    valy = normalized_val[upac]['PV']\n",
    "    testx = normalized_test[upac].drop('PV', axis=1)\n",
    "    testy = normalized_test[upac]['PV']\n",
    "    \n",
    "    X_train[upac] = trainx\n",
    "    X_val[upac] = valx\n",
    "    X_test[upac] = testx\n",
    "    \n",
    "    y_train[upac] = trainy\n",
    "    y_val[upac] = valy\n",
    "    y_test[upac] = testy"
   ]
  },
  {
   "cell_type": "code",
   "execution_count": 15,
   "id": "d75b9aca",
   "metadata": {
    "ExecuteTime": {
     "end_time": "2023-09-12T01:00:37.802731900Z",
     "start_time": "2023-09-12T01:00:37.171201Z"
    }
   },
   "outputs": [
    {
     "ename": "FileNotFoundError",
     "evalue": "[Errno 2] No such file or directory: 'results/xgboost/upac08_all/test/Model 01.csv'",
     "output_type": "error",
     "traceback": [
      "\u001B[1;31m---------------------------------------------------------------------------\u001B[0m",
      "\u001B[1;31mFileNotFoundError\u001B[0m                         Traceback (most recent call last)",
      "Cell \u001B[1;32mIn[15], line 5\u001B[0m\n\u001B[0;32m      1\u001B[0m \u001B[38;5;66;03m# Get the XGBoost model\u001B[39;00m\n\u001B[0;32m      3\u001B[0m xgb_model \u001B[38;5;241m=\u001B[39m load(\u001B[38;5;124m'\u001B[39m\u001B[38;5;124mmodels/xgboost/upac08_all/Model 01.joblib\u001B[39m\u001B[38;5;124m'\u001B[39m)\n\u001B[1;32m----> 5\u001B[0m xgb_yhat \u001B[38;5;241m=\u001B[39m \u001B[43mpd\u001B[49m\u001B[38;5;241;43m.\u001B[39;49m\u001B[43mread_csv\u001B[49m\u001B[43m(\u001B[49m\u001B[38;5;124;43m'\u001B[39;49m\u001B[38;5;124;43mresults/xgboost/upac08_all/test/Model 01.csv\u001B[39;49m\u001B[38;5;124;43m'\u001B[39;49m\u001B[43m,\u001B[49m\u001B[43m \u001B[49m\u001B[43mindex_col\u001B[49m\u001B[38;5;241;43m=\u001B[39;49m\u001B[38;5;124;43m'\u001B[39;49m\u001B[38;5;124;43mdatetime_utc\u001B[39;49m\u001B[38;5;124;43m'\u001B[39;49m\u001B[43m)\u001B[49m\n\u001B[0;32m      6\u001B[0m xgb_yhat\u001B[38;5;241m.\u001B[39mindex \u001B[38;5;241m=\u001B[39m pd\u001B[38;5;241m.\u001B[39mto_datetime(xgb_yhat\u001B[38;5;241m.\u001B[39mindex)\n",
      "File \u001B[1;32m~\\DataspellProjects\\pv_forecast\\venv\\lib\\site-packages\\pandas\\io\\parsers\\readers.py:912\u001B[0m, in \u001B[0;36mread_csv\u001B[1;34m(filepath_or_buffer, sep, delimiter, header, names, index_col, usecols, dtype, engine, converters, true_values, false_values, skipinitialspace, skiprows, skipfooter, nrows, na_values, keep_default_na, na_filter, verbose, skip_blank_lines, parse_dates, infer_datetime_format, keep_date_col, date_parser, date_format, dayfirst, cache_dates, iterator, chunksize, compression, thousands, decimal, lineterminator, quotechar, quoting, doublequote, escapechar, comment, encoding, encoding_errors, dialect, on_bad_lines, delim_whitespace, low_memory, memory_map, float_precision, storage_options, dtype_backend)\u001B[0m\n\u001B[0;32m    899\u001B[0m kwds_defaults \u001B[38;5;241m=\u001B[39m _refine_defaults_read(\n\u001B[0;32m    900\u001B[0m     dialect,\n\u001B[0;32m    901\u001B[0m     delimiter,\n\u001B[1;32m   (...)\u001B[0m\n\u001B[0;32m    908\u001B[0m     dtype_backend\u001B[38;5;241m=\u001B[39mdtype_backend,\n\u001B[0;32m    909\u001B[0m )\n\u001B[0;32m    910\u001B[0m kwds\u001B[38;5;241m.\u001B[39mupdate(kwds_defaults)\n\u001B[1;32m--> 912\u001B[0m \u001B[38;5;28;01mreturn\u001B[39;00m \u001B[43m_read\u001B[49m\u001B[43m(\u001B[49m\u001B[43mfilepath_or_buffer\u001B[49m\u001B[43m,\u001B[49m\u001B[43m \u001B[49m\u001B[43mkwds\u001B[49m\u001B[43m)\u001B[49m\n",
      "File \u001B[1;32m~\\DataspellProjects\\pv_forecast\\venv\\lib\\site-packages\\pandas\\io\\parsers\\readers.py:577\u001B[0m, in \u001B[0;36m_read\u001B[1;34m(filepath_or_buffer, kwds)\u001B[0m\n\u001B[0;32m    574\u001B[0m _validate_names(kwds\u001B[38;5;241m.\u001B[39mget(\u001B[38;5;124m\"\u001B[39m\u001B[38;5;124mnames\u001B[39m\u001B[38;5;124m\"\u001B[39m, \u001B[38;5;28;01mNone\u001B[39;00m))\n\u001B[0;32m    576\u001B[0m \u001B[38;5;66;03m# Create the parser.\u001B[39;00m\n\u001B[1;32m--> 577\u001B[0m parser \u001B[38;5;241m=\u001B[39m TextFileReader(filepath_or_buffer, \u001B[38;5;241m*\u001B[39m\u001B[38;5;241m*\u001B[39mkwds)\n\u001B[0;32m    579\u001B[0m \u001B[38;5;28;01mif\u001B[39;00m chunksize \u001B[38;5;129;01mor\u001B[39;00m iterator:\n\u001B[0;32m    580\u001B[0m     \u001B[38;5;28;01mreturn\u001B[39;00m parser\n",
      "File \u001B[1;32m~\\DataspellProjects\\pv_forecast\\venv\\lib\\site-packages\\pandas\\io\\parsers\\readers.py:1407\u001B[0m, in \u001B[0;36mTextFileReader.__init__\u001B[1;34m(self, f, engine, **kwds)\u001B[0m\n\u001B[0;32m   1404\u001B[0m     \u001B[38;5;28mself\u001B[39m\u001B[38;5;241m.\u001B[39moptions[\u001B[38;5;124m\"\u001B[39m\u001B[38;5;124mhas_index_names\u001B[39m\u001B[38;5;124m\"\u001B[39m] \u001B[38;5;241m=\u001B[39m kwds[\u001B[38;5;124m\"\u001B[39m\u001B[38;5;124mhas_index_names\u001B[39m\u001B[38;5;124m\"\u001B[39m]\n\u001B[0;32m   1406\u001B[0m \u001B[38;5;28mself\u001B[39m\u001B[38;5;241m.\u001B[39mhandles: IOHandles \u001B[38;5;241m|\u001B[39m \u001B[38;5;28;01mNone\u001B[39;00m \u001B[38;5;241m=\u001B[39m \u001B[38;5;28;01mNone\u001B[39;00m\n\u001B[1;32m-> 1407\u001B[0m \u001B[38;5;28mself\u001B[39m\u001B[38;5;241m.\u001B[39m_engine \u001B[38;5;241m=\u001B[39m \u001B[38;5;28;43mself\u001B[39;49m\u001B[38;5;241;43m.\u001B[39;49m\u001B[43m_make_engine\u001B[49m\u001B[43m(\u001B[49m\u001B[43mf\u001B[49m\u001B[43m,\u001B[49m\u001B[43m \u001B[49m\u001B[38;5;28;43mself\u001B[39;49m\u001B[38;5;241;43m.\u001B[39;49m\u001B[43mengine\u001B[49m\u001B[43m)\u001B[49m\n",
      "File \u001B[1;32m~\\DataspellProjects\\pv_forecast\\venv\\lib\\site-packages\\pandas\\io\\parsers\\readers.py:1661\u001B[0m, in \u001B[0;36mTextFileReader._make_engine\u001B[1;34m(self, f, engine)\u001B[0m\n\u001B[0;32m   1659\u001B[0m     \u001B[38;5;28;01mif\u001B[39;00m \u001B[38;5;124m\"\u001B[39m\u001B[38;5;124mb\u001B[39m\u001B[38;5;124m\"\u001B[39m \u001B[38;5;129;01mnot\u001B[39;00m \u001B[38;5;129;01min\u001B[39;00m mode:\n\u001B[0;32m   1660\u001B[0m         mode \u001B[38;5;241m+\u001B[39m\u001B[38;5;241m=\u001B[39m \u001B[38;5;124m\"\u001B[39m\u001B[38;5;124mb\u001B[39m\u001B[38;5;124m\"\u001B[39m\n\u001B[1;32m-> 1661\u001B[0m \u001B[38;5;28mself\u001B[39m\u001B[38;5;241m.\u001B[39mhandles \u001B[38;5;241m=\u001B[39m \u001B[43mget_handle\u001B[49m\u001B[43m(\u001B[49m\n\u001B[0;32m   1662\u001B[0m \u001B[43m    \u001B[49m\u001B[43mf\u001B[49m\u001B[43m,\u001B[49m\n\u001B[0;32m   1663\u001B[0m \u001B[43m    \u001B[49m\u001B[43mmode\u001B[49m\u001B[43m,\u001B[49m\n\u001B[0;32m   1664\u001B[0m \u001B[43m    \u001B[49m\u001B[43mencoding\u001B[49m\u001B[38;5;241;43m=\u001B[39;49m\u001B[38;5;28;43mself\u001B[39;49m\u001B[38;5;241;43m.\u001B[39;49m\u001B[43moptions\u001B[49m\u001B[38;5;241;43m.\u001B[39;49m\u001B[43mget\u001B[49m\u001B[43m(\u001B[49m\u001B[38;5;124;43m\"\u001B[39;49m\u001B[38;5;124;43mencoding\u001B[39;49m\u001B[38;5;124;43m\"\u001B[39;49m\u001B[43m,\u001B[49m\u001B[43m \u001B[49m\u001B[38;5;28;43;01mNone\u001B[39;49;00m\u001B[43m)\u001B[49m\u001B[43m,\u001B[49m\n\u001B[0;32m   1665\u001B[0m \u001B[43m    \u001B[49m\u001B[43mcompression\u001B[49m\u001B[38;5;241;43m=\u001B[39;49m\u001B[38;5;28;43mself\u001B[39;49m\u001B[38;5;241;43m.\u001B[39;49m\u001B[43moptions\u001B[49m\u001B[38;5;241;43m.\u001B[39;49m\u001B[43mget\u001B[49m\u001B[43m(\u001B[49m\u001B[38;5;124;43m\"\u001B[39;49m\u001B[38;5;124;43mcompression\u001B[39;49m\u001B[38;5;124;43m\"\u001B[39;49m\u001B[43m,\u001B[49m\u001B[43m \u001B[49m\u001B[38;5;28;43;01mNone\u001B[39;49;00m\u001B[43m)\u001B[49m\u001B[43m,\u001B[49m\n\u001B[0;32m   1666\u001B[0m \u001B[43m    \u001B[49m\u001B[43mmemory_map\u001B[49m\u001B[38;5;241;43m=\u001B[39;49m\u001B[38;5;28;43mself\u001B[39;49m\u001B[38;5;241;43m.\u001B[39;49m\u001B[43moptions\u001B[49m\u001B[38;5;241;43m.\u001B[39;49m\u001B[43mget\u001B[49m\u001B[43m(\u001B[49m\u001B[38;5;124;43m\"\u001B[39;49m\u001B[38;5;124;43mmemory_map\u001B[39;49m\u001B[38;5;124;43m\"\u001B[39;49m\u001B[43m,\u001B[49m\u001B[43m \u001B[49m\u001B[38;5;28;43;01mFalse\u001B[39;49;00m\u001B[43m)\u001B[49m\u001B[43m,\u001B[49m\n\u001B[0;32m   1667\u001B[0m \u001B[43m    \u001B[49m\u001B[43mis_text\u001B[49m\u001B[38;5;241;43m=\u001B[39;49m\u001B[43mis_text\u001B[49m\u001B[43m,\u001B[49m\n\u001B[0;32m   1668\u001B[0m \u001B[43m    \u001B[49m\u001B[43merrors\u001B[49m\u001B[38;5;241;43m=\u001B[39;49m\u001B[38;5;28;43mself\u001B[39;49m\u001B[38;5;241;43m.\u001B[39;49m\u001B[43moptions\u001B[49m\u001B[38;5;241;43m.\u001B[39;49m\u001B[43mget\u001B[49m\u001B[43m(\u001B[49m\u001B[38;5;124;43m\"\u001B[39;49m\u001B[38;5;124;43mencoding_errors\u001B[39;49m\u001B[38;5;124;43m\"\u001B[39;49m\u001B[43m,\u001B[49m\u001B[43m \u001B[49m\u001B[38;5;124;43m\"\u001B[39;49m\u001B[38;5;124;43mstrict\u001B[39;49m\u001B[38;5;124;43m\"\u001B[39;49m\u001B[43m)\u001B[49m\u001B[43m,\u001B[49m\n\u001B[0;32m   1669\u001B[0m \u001B[43m    \u001B[49m\u001B[43mstorage_options\u001B[49m\u001B[38;5;241;43m=\u001B[39;49m\u001B[38;5;28;43mself\u001B[39;49m\u001B[38;5;241;43m.\u001B[39;49m\u001B[43moptions\u001B[49m\u001B[38;5;241;43m.\u001B[39;49m\u001B[43mget\u001B[49m\u001B[43m(\u001B[49m\u001B[38;5;124;43m\"\u001B[39;49m\u001B[38;5;124;43mstorage_options\u001B[39;49m\u001B[38;5;124;43m\"\u001B[39;49m\u001B[43m,\u001B[49m\u001B[43m \u001B[49m\u001B[38;5;28;43;01mNone\u001B[39;49;00m\u001B[43m)\u001B[49m\u001B[43m,\u001B[49m\n\u001B[0;32m   1670\u001B[0m \u001B[43m\u001B[49m\u001B[43m)\u001B[49m\n\u001B[0;32m   1671\u001B[0m \u001B[38;5;28;01massert\u001B[39;00m \u001B[38;5;28mself\u001B[39m\u001B[38;5;241m.\u001B[39mhandles \u001B[38;5;129;01mis\u001B[39;00m \u001B[38;5;129;01mnot\u001B[39;00m \u001B[38;5;28;01mNone\u001B[39;00m\n\u001B[0;32m   1672\u001B[0m f \u001B[38;5;241m=\u001B[39m \u001B[38;5;28mself\u001B[39m\u001B[38;5;241m.\u001B[39mhandles\u001B[38;5;241m.\u001B[39mhandle\n",
      "File \u001B[1;32m~\\DataspellProjects\\pv_forecast\\venv\\lib\\site-packages\\pandas\\io\\common.py:859\u001B[0m, in \u001B[0;36mget_handle\u001B[1;34m(path_or_buf, mode, encoding, compression, memory_map, is_text, errors, storage_options)\u001B[0m\n\u001B[0;32m    854\u001B[0m \u001B[38;5;28;01melif\u001B[39;00m \u001B[38;5;28misinstance\u001B[39m(handle, \u001B[38;5;28mstr\u001B[39m):\n\u001B[0;32m    855\u001B[0m     \u001B[38;5;66;03m# Check whether the filename is to be opened in binary mode.\u001B[39;00m\n\u001B[0;32m    856\u001B[0m     \u001B[38;5;66;03m# Binary mode does not support 'encoding' and 'newline'.\u001B[39;00m\n\u001B[0;32m    857\u001B[0m     \u001B[38;5;28;01mif\u001B[39;00m ioargs\u001B[38;5;241m.\u001B[39mencoding \u001B[38;5;129;01mand\u001B[39;00m \u001B[38;5;124m\"\u001B[39m\u001B[38;5;124mb\u001B[39m\u001B[38;5;124m\"\u001B[39m \u001B[38;5;129;01mnot\u001B[39;00m \u001B[38;5;129;01min\u001B[39;00m ioargs\u001B[38;5;241m.\u001B[39mmode:\n\u001B[0;32m    858\u001B[0m         \u001B[38;5;66;03m# Encoding\u001B[39;00m\n\u001B[1;32m--> 859\u001B[0m         handle \u001B[38;5;241m=\u001B[39m \u001B[38;5;28;43mopen\u001B[39;49m\u001B[43m(\u001B[49m\n\u001B[0;32m    860\u001B[0m \u001B[43m            \u001B[49m\u001B[43mhandle\u001B[49m\u001B[43m,\u001B[49m\n\u001B[0;32m    861\u001B[0m \u001B[43m            \u001B[49m\u001B[43mioargs\u001B[49m\u001B[38;5;241;43m.\u001B[39;49m\u001B[43mmode\u001B[49m\u001B[43m,\u001B[49m\n\u001B[0;32m    862\u001B[0m \u001B[43m            \u001B[49m\u001B[43mencoding\u001B[49m\u001B[38;5;241;43m=\u001B[39;49m\u001B[43mioargs\u001B[49m\u001B[38;5;241;43m.\u001B[39;49m\u001B[43mencoding\u001B[49m\u001B[43m,\u001B[49m\n\u001B[0;32m    863\u001B[0m \u001B[43m            \u001B[49m\u001B[43merrors\u001B[49m\u001B[38;5;241;43m=\u001B[39;49m\u001B[43merrors\u001B[49m\u001B[43m,\u001B[49m\n\u001B[0;32m    864\u001B[0m \u001B[43m            \u001B[49m\u001B[43mnewline\u001B[49m\u001B[38;5;241;43m=\u001B[39;49m\u001B[38;5;124;43m\"\u001B[39;49m\u001B[38;5;124;43m\"\u001B[39;49m\u001B[43m,\u001B[49m\n\u001B[0;32m    865\u001B[0m \u001B[43m        \u001B[49m\u001B[43m)\u001B[49m\n\u001B[0;32m    866\u001B[0m     \u001B[38;5;28;01melse\u001B[39;00m:\n\u001B[0;32m    867\u001B[0m         \u001B[38;5;66;03m# Binary mode\u001B[39;00m\n\u001B[0;32m    868\u001B[0m         handle \u001B[38;5;241m=\u001B[39m \u001B[38;5;28mopen\u001B[39m(handle, ioargs\u001B[38;5;241m.\u001B[39mmode)\n",
      "\u001B[1;31mFileNotFoundError\u001B[0m: [Errno 2] No such file or directory: 'results/xgboost/upac08_all/test/Model 01.csv'"
     ]
    }
   ],
   "source": [
    "# Get the XGBoost model\n",
    "\n",
    "xgb_model = load('models/xgboost/upac08_all/Model 01.joblib')\n",
    "\n",
    "xgb_yhat = pd.read_csv('results/xgboost/upac08_all/test/Model 01.csv', index_col='datetime_utc')\n",
    "xgb_yhat.index = pd.to_datetime(xgb_yhat.index)"
   ]
  },
  {
   "cell_type": "code",
   "execution_count": 27,
   "id": "6aae8927",
   "metadata": {
    "ExecuteTime": {
     "end_time": "2022-08-01T08:54:28.752967Z",
     "start_time": "2022-08-01T08:50:32.808577Z"
    }
   },
   "outputs": [
    {
     "name": "stderr",
     "output_type": "stream",
     "text": [
      "ntree_limit is deprecated, use `iteration_range` or model slicing instead.\n"
     ]
    }
   ],
   "source": [
    "# Test set SHAP values\n",
    "\n",
    "# Get the SHAP values\n",
    "tree_obj = shap.TreeExplainer(xgb_model)\n",
    "\n",
    "temp_shap = tree_obj.shap_values(X_test['upac08'], check_additivity=False)\n",
    "\n",
    "temp_shap_df = pd.DataFrame(temp_shap,\n",
    "                            columns=X_test['upac08'].columns,\n",
    "                            index=X_test['upac08'].index)"
   ]
  },
  {
   "cell_type": "code",
   "execution_count": 37,
   "id": "3eb8353c",
   "metadata": {
    "ExecuteTime": {
     "end_time": "2022-08-01T09:03:58.784906Z",
     "start_time": "2022-08-01T09:03:58.743897Z"
    }
   },
   "outputs": [
    {
     "data": {
      "text/plain": [
       "GtiFixedTilt    701.726074\n",
       "Ghi             133.236954\n",
       "Day Y            91.895966\n",
       "CloudOpacity     42.252907\n",
       "AirTemp          37.597908\n",
       "Year X           23.272182\n",
       "Year Y           21.286421\n",
       "Day X            19.726591\n",
       "Name: mean, dtype: float64"
      ]
     },
     "execution_count": 37,
     "metadata": {},
     "output_type": "execute_result"
    }
   ],
   "source": [
    "# Overall SHAP values (baseline)\n",
    "\n",
    "np.abs(temp_shap_df).describe().loc['mean'].sort_values(ascending=False)"
   ]
  },
  {
   "cell_type": "code",
   "execution_count": 28,
   "id": "87d2922f",
   "metadata": {
    "ExecuteTime": {
     "end_time": "2022-08-01T08:55:04.361421Z",
     "start_time": "2022-08-01T08:55:02.978639Z"
    }
   },
   "outputs": [
    {
     "data": {
      "image/png": "[encoded data removed]",
      "text/plain": [
       "<Figure size 576x338.4 with 2 Axes>"
      ]
     },
     "metadata": {
      "needs_background": "light"
     },
     "output_type": "display_data"
    }
   ],
   "source": [
    "# Test set SHAP plot\n",
    "\n",
    "plt.figure(figsize=(8, 6))\n",
    "shap.summary_plot(temp_shap, X_test['upac08'])"
   ]
  },
  {
   "cell_type": "code",
   "execution_count": 29,
   "id": "dcf8c980",
   "metadata": {
    "ExecuteTime": {
     "end_time": "2022-08-01T08:57:48.520294Z",
     "start_time": "2022-08-01T08:57:48.494289Z"
    }
   },
   "outputs": [],
   "source": [
    "# Add season information to dataframes\n",
    "\n",
    "def extract_season(df):\n",
    "    \n",
    "    date = df.index.month*100 + df.index.day\n",
    "    df['season'] = (pd.cut(date,[0,321,620,922,1220,1300],\n",
    "                           labels=['winter','spring','summer','autumn','winter '])\n",
    "                    #.str.strip()\n",
    "                   )\n",
    "    df['season'] = df['season'].str.replace(' ', '')\n",
    "    df['season'] = df['season'].astype('category')\n",
    "    \n",
    "    df['season_int'] = df['season'].cat.codes\n",
    "    \n",
    "    return\n",
    "\n",
    "df_model = temp_shap_df.copy(deep=True)\n",
    "extract_season(df_model)\n",
    "df_model.drop('season_int', inplace=True, axis=1)\n",
    "\n",
    "df_testx = X_test['upac08'].copy(deep=True)\n",
    "extract_season(df_testx)\n",
    "df_testx.drop('season_int', inplace=True, axis=1)"
   ]
  },
  {
   "cell_type": "code",
   "execution_count": 1,
   "id": "10a342c9",
   "metadata": {
    "scrolled": false,
    "ExecuteTime": {
     "end_time": "2023-09-12T19:49:55.101527500Z",
     "start_time": "2023-09-12T19:49:54.698693500Z"
    }
   },
   "outputs": [
    {
     "ename": "NameError",
     "evalue": "name 'plt' is not defined",
     "output_type": "error",
     "traceback": [
      "\u001B[1;31m---------------------------------------------------------------------------\u001B[0m",
      "\u001B[1;31mNameError\u001B[0m                                 Traceback (most recent call last)",
      "Cell \u001B[1;32mIn[1], line 3\u001B[0m\n\u001B[0;32m      1\u001B[0m \u001B[38;5;66;03m# Model Season analysis\u001B[39;00m\n\u001B[1;32m----> 3\u001B[0m fig \u001B[38;5;241m=\u001B[39m \u001B[43mplt\u001B[49m\u001B[38;5;241m.\u001B[39mfigure(figsize\u001B[38;5;241m=\u001B[39m(\u001B[38;5;241m20\u001B[39m, \u001B[38;5;241m24\u001B[39m))\n\u001B[0;32m      4\u001B[0m current_axs \u001B[38;5;241m=\u001B[39m \u001B[38;5;241m0\u001B[39m\n\u001B[0;32m      6\u001B[0m \u001B[38;5;28;01mfor\u001B[39;00m season \u001B[38;5;129;01min\u001B[39;00m df_model[\u001B[38;5;124m'\u001B[39m\u001B[38;5;124mseason\u001B[39m\u001B[38;5;124m'\u001B[39m]\u001B[38;5;241m.\u001B[39munique():\n",
      "\u001B[1;31mNameError\u001B[0m: name 'plt' is not defined"
     ]
    }
   ],
   "source": [
    "# Model Season analysis\n",
    "\n",
    "fig = plt.figure(figsize=(20, 24))\n",
    "current_axs = 0\n",
    "\n",
    "for season in df_model['season'].unique():\n",
    "    plt.subplot(4, 1, current_axs+1)\n",
    "    \n",
    "    season_shap = df_model.loc[df_model['season'] == season].drop(['season'], axis=1).values\n",
    "    season_data = df_testx.loc[df_testx['season'] == season].drop(['season'], axis=1)\n",
    "    \n",
    "    temp_axs = shap.summary_plot(season_shap, season_data,\n",
    "                                 plot_size=None, show=False)\n",
    "    plt.title('{} SHAP values'.format(season))\n",
    "    current_axs += 1\n",
    "    \n",
    "plt.tight_layout()"
   ]
  },
  {
   "cell_type": "code",
   "execution_count": 32,
   "id": "dff09598",
   "metadata": {
    "ExecuteTime": {
     "end_time": "2022-08-01T09:01:54.266978Z",
     "start_time": "2022-08-01T09:01:54.201963Z"
    }
   },
   "outputs": [],
   "source": [
    "# Model 08 SHAP values for each season\n",
    "\n",
    "season_shap = {}\n",
    "for season in df_model['season'].unique():\n",
    "    season_shap[season] = np.abs(df_model.loc[df_model['season'] == season].drop('season', axis=1)).describe().loc['mean']\n",
    "    \n",
    "season_shap = pd.DataFrame(season_shap)\n",
    "season_shap = season_shap.reindex(columns=['autumn', 'winter', 'spring', 'summer'])\n",
    "season_shap = season_shap.transpose()\n",
    "\n",
    "season_shap = season_shap.reindex(columns=['GtiFixedTilt', 'Ghi', 'CloudOpacity', 'Day Y', 'Day X', 'Year Y', 'Year X'])"
   ]
  },
  {
   "cell_type": "code",
   "execution_count": 33,
   "id": "64c40133",
   "metadata": {
    "ExecuteTime": {
     "end_time": "2022-08-01T09:02:01.468592Z",
     "start_time": "2022-08-01T09:02:01.449587Z"
    }
   },
   "outputs": [
    {
     "data": {
      "text/html": [
       "<div>\n",
       "<style scoped>\n",
       "    .dataframe tbody tr th:only-of-type {\n",
       "        vertical-align: middle;\n",
       "    }\n",
       "\n",
       "    .dataframe tbody tr th {\n",
       "        vertical-align: top;\n",
       "    }\n",
       "\n",
       "    .dataframe thead th {\n",
       "        text-align: right;\n",
       "    }\n",
       "</style>\n",
       "<table border=\"1\" class=\"dataframe\">\n",
       "  <thead>\n",
       "    <tr style=\"text-align: right;\">\n",
       "      <th></th>\n",
       "      <th>GtiFixedTilt</th>\n",
       "      <th>Ghi</th>\n",
       "      <th>CloudOpacity</th>\n",
       "      <th>Day Y</th>\n",
       "      <th>Day X</th>\n",
       "      <th>Year Y</th>\n",
       "      <th>Year X</th>\n",
       "    </tr>\n",
       "  </thead>\n",
       "  <tbody>\n",
       "    <tr>\n",
       "      <th>autumn</th>\n",
       "      <td>622.405762</td>\n",
       "      <td>110.465187</td>\n",
       "      <td>30.575888</td>\n",
       "      <td>80.132126</td>\n",
       "      <td>20.871984</td>\n",
       "      <td>20.733538</td>\n",
       "      <td>24.268732</td>\n",
       "    </tr>\n",
       "    <tr>\n",
       "      <th>winter</th>\n",
       "      <td>652.605225</td>\n",
       "      <td>126.713272</td>\n",
       "      <td>30.055403</td>\n",
       "      <td>84.457809</td>\n",
       "      <td>19.298841</td>\n",
       "      <td>16.606327</td>\n",
       "      <td>23.806112</td>\n",
       "    </tr>\n",
       "    <tr>\n",
       "      <th>spring</th>\n",
       "      <td>733.056824</td>\n",
       "      <td>148.352921</td>\n",
       "      <td>47.958752</td>\n",
       "      <td>96.158333</td>\n",
       "      <td>18.893715</td>\n",
       "      <td>26.597881</td>\n",
       "      <td>22.300215</td>\n",
       "    </tr>\n",
       "    <tr>\n",
       "      <th>summer</th>\n",
       "      <td>797.078369</td>\n",
       "      <td>147.260162</td>\n",
       "      <td>60.156307</td>\n",
       "      <td>106.556465</td>\n",
       "      <td>19.838320</td>\n",
       "      <td>21.369970</td>\n",
       "      <td>22.709705</td>\n",
       "    </tr>\n",
       "  </tbody>\n",
       "</table>\n",
       "</div>"
      ],
      "text/plain": [
       "        GtiFixedTilt         Ghi  CloudOpacity       Day Y      Day X  \\\n",
       "autumn    622.405762  110.465187     30.575888   80.132126  20.871984   \n",
       "winter    652.605225  126.713272     30.055403   84.457809  19.298841   \n",
       "spring    733.056824  148.352921     47.958752   96.158333  18.893715   \n",
       "summer    797.078369  147.260162     60.156307  106.556465  19.838320   \n",
       "\n",
       "           Year Y     Year X  \n",
       "autumn  20.733538  24.268732  \n",
       "winter  16.606327  23.806112  \n",
       "spring  26.597881  22.300215  \n",
       "summer  21.369970  22.709705  "
      ]
     },
     "execution_count": 33,
     "metadata": {},
     "output_type": "execute_result"
    }
   ],
   "source": [
    "# Show the SHAP values by season\n",
    "\n",
    "season_shap"
   ]
  },
  {
   "cell_type": "code",
   "execution_count": null,
   "id": "7a2784a0",
   "metadata": {},
   "outputs": [],
   "source": []
  }
 ],
 "metadata": {
  "kernelspec": {
   "display_name": "Python 3 (ipykernel)",
   "language": "python",
   "name": "python3"
  },
  "language_info": {
   "codemirror_mode": {
    "name": "ipython",
    "version": 3
   },
   "file_extension": ".py",
   "mimetype": "text/x-python",
   "name": "python",
   "nbconvert_exporter": "python",
   "pygments_lexer": "ipython3",
   "version": "3.8.0"
  },
  "varInspector": {
   "cols": {
    "lenName": 16,
    "lenType": 16,
    "lenVar": 40
   },
   "kernels_config": {
    "python": {
     "delete_cmd_postfix": "",
     "delete_cmd_prefix": "del ",
     "library": "var_list.py",
     "varRefreshCmd": "print(var_dic_list())"
    },
    "r": {
     "delete_cmd_postfix": ") ",
     "delete_cmd_prefix": "rm(",
     "library": "var_list.r",
     "varRefreshCmd": "cat(var_dic_list()) "
    }
   },
   "types_to_exclude": [
    "module",
    "function",
    "builtin_function_or_method",
    "instance",
    "_Feature"
   ],
   "window_display": false
  }
 },
 "nbformat": 4,
 "nbformat_minor": 5
}

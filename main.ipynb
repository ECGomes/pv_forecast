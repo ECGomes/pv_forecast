{
 "cells": [
  {
   "cell_type": "code",
   "execution_count": null,
   "id": "dfdcc9d0",
   "metadata": {
    "code_folding": [
     0
    ]
   },
   "outputs": [],
   "source": [
    "# Imports\n",
    "\n",
    "import numpy as np\n",
    "import pandas as pd\n",
    "import matplotlib.pyplot as plt\n",
    "import model_shap\n",
    "\n",
    "from data_pipeline import DataPipeline\n",
    "from memory_profiler import memory_usage"
   ]
  },
  {
   "cell_type": "code",
   "execution_count": null,
   "outputs": [],
   "source": [
    "# Load and preprocess the data\n",
    "data_upac08 = DataPipeline('data/upac08')\n",
    "\n",
    "# Track memory usage of the preprocessing\n",
    "preprocessing_memory_usage = memory_usage((data_upac08._do, ()), timestamps=True)"
   ],
   "metadata": {
    "collapsed": false
   }
  },
  {
   "cell_type": "code",
   "execution_count": null,
   "outputs": [],
   "source": [
    "# Save the memory usage to a dataframe\n",
    "\n",
    "mem_usage = pd.DataFrame(preprocessing_memory_usage, columns=['Memory Usage', 'Timestamp'])\n",
    "mem_usage.index = pd.to_datetime(mem_usage['Timestamp'], unit='s')\n",
    "mem_usage = mem_usage.drop('Timestamp', axis=1)\n",
    "\n",
    "mem_usage"
   ],
   "metadata": {
    "collapsed": false
   }
  },
  {
   "cell_type": "code",
   "execution_count": null,
   "outputs": [],
   "source": [
    "# Fix the seed for reproducibility\n",
    "\n",
    "np.random.seed(42)"
   ],
   "metadata": {
    "collapsed": false
   }
  },
  {
   "cell_type": "code",
   "execution_count": null,
   "outputs": [],
   "source": [
    "# Do the iterations until the model converges (XGBoost)\n",
    "\n",
    "xgb_dict = {}\n",
    "\n",
    "FEATURES = data_upac08.train_data[0].columns\n",
    "COUNTER = 0\n",
    "while len(FEATURES) > 1:\n",
    "    xgb_ = model_shap.XGBShap(data_upac08.train_data[0][FEATURES], data_upac08.train_data[1],\n",
    "                              data_upac08.val_data[0][FEATURES], data_upac08.val_data[1],\n",
    "                              data_upac08.test_data[0][FEATURES], data_upac08.test_data[1],\n",
    "                              scaler=data_upac08.scaler,\n",
    "                              n_trials=100, seed=42)\n",
    "\n",
    "    xgb_.do()\n",
    "\n",
    "    xgb_dict['It {:03d}'.format(COUNTER)] = xgb_\n",
    "\n",
    "    FEATURES = xgb_.shap_values.abs().mean().sort_values(ascending=False)[:int(xgb_.shap_values.abs().mean().shape[0] * 0.5)].index\n",
    "\n",
    "    COUNTER += 1"
   ],
   "metadata": {
    "collapsed": false
   }
  },
  {
   "cell_type": "code",
   "execution_count": null,
   "outputs": [],
   "source": [
    "# Check the dictionary\n",
    "\n",
    "xgb_dict['It 003'].model_memory_usage"
   ],
   "metadata": {
    "collapsed": false
   }
  },
  {
   "cell_type": "code",
   "execution_count": null,
   "outputs": [],
   "source": [
    "# Plot the memory usage of the XGBoost models\n",
    "\n",
    "fig, ax = plt.subplots(figsize=(5, 5))\n",
    "\n",
    "for key, value in xgb_dict.items():\n",
    "    ax.plot(range(len(value.model_memory_usage)), value.model_memory_usage - value.model_memory_usage.min(), label=key)\n",
    "\n",
    "    ax.set_ylabel('Memory Usage (MB)')\n",
    "\n",
    "    ax.legend()\n",
    "\n",
    "    ax.set_xlabel('Time')\n",
    "\n",
    "plt.show()"
   ],
   "metadata": {
    "collapsed": false
   }
  },
  {
   "cell_type": "code",
   "execution_count": null,
   "outputs": [],
   "source": [
    "# Build a report by concatenating the reports of the models\n",
    "\n",
    "report = pd.concat([xgb_dict[key].report for key in xgb_dict.keys()], axis=0)\n",
    "report.index = xgb_dict.keys()\n",
    "\n",
    "# Append the RMSE percentage deviation from the first iteration\n",
    "report['RMSE Train %'] = (report['RMSE Train'] - report['RMSE Train'][0]) / report['RMSE Train'][0] * 100\n",
    "report['RMSE Val %'] = (report['RMSE Val'] - report['RMSE Val'][0]) / report['RMSE Val'][0] * 100\n",
    "report['RMSE Test %'] = (report['RMSE Test'] - report['RMSE Test'][0]) / report['RMSE Test'][0] * 100\n",
    "\n",
    "report"
   ],
   "metadata": {
    "collapsed": false
   }
  },
  {
   "cell_type": "code",
   "execution_count": null,
   "outputs": [],
   "source": [
    "# Plot the mean absolute SHAP values of the first iteration\n",
    "\n",
    "xgb_dict['It 001'].plot_shap(plot_type='bar')"
   ],
   "metadata": {
    "collapsed": false
   }
  },
  {
   "cell_type": "code",
   "execution_count": null,
   "outputs": [],
   "source": [
    "# Save the values of XGBShap class to files\n",
    "\n",
    "for key in xgb_dict.keys():\n",
    "    xgb_dict[key].save('models/xgboost/{}'.format(key))"
   ],
   "metadata": {
    "collapsed": false
   }
  },
  {
   "cell_type": "code",
   "execution_count": null,
   "outputs": [],
   "source": [
    "# Load the class\n",
    "\n",
    "import pickle\n",
    "\n",
    "with open('models/xgboost/xgb_overall.pkl', 'rb') as f:\n",
    "    xgb_overall = pickle.load(f)"
   ],
   "metadata": {
    "collapsed": false
   }
  },
  {
   "cell_type": "code",
   "execution_count": null,
   "outputs": [],
   "source": [],
   "metadata": {
    "collapsed": false
   }
  }
 ],
 "metadata": {
  "kernelspec": {
   "display_name": "Python 3 (ipykernel)",
   "language": "python",
   "name": "python3"
  },
  "language_info": {
   "codemirror_mode": {
    "name": "ipython",
    "version": 3
   },
   "file_extension": ".py",
   "mimetype": "text/x-python",
   "name": "python",
   "nbconvert_exporter": "python",
   "pygments_lexer": "ipython3",
   "version": "3.8.0"
  },
  "varInspector": {
   "cols": {
    "lenName": 16,
    "lenType": 16,
    "lenVar": 40
   },
   "kernels_config": {
    "python": {
     "delete_cmd_postfix": "",
     "delete_cmd_prefix": "del ",
     "library": "var_list.py",
     "varRefreshCmd": "print(var_dic_list())"
    },
    "r": {
     "delete_cmd_postfix": ") ",
     "delete_cmd_prefix": "rm(",
     "library": "var_list.r",
     "varRefreshCmd": "cat(var_dic_list()) "
    }
   },
   "types_to_exclude": [
    "module",
    "function",
    "builtin_function_or_method",
    "instance",
    "_Feature"
   ],
   "window_display": false
  }
 },
 "nbformat": 4,
 "nbformat_minor": 5
}

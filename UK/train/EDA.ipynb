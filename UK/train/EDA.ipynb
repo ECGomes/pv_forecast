{
 "cells": [
  {
   "cell_type": "code",
   "execution_count": 1,
   "id": "7c23dca7",
   "metadata": {
    "ExecuteTime": {
     "end_time": "2022-08-04T15:29:51.503678Z",
     "start_time": "2022-08-04T15:29:50.772514Z"
    }
   },
   "outputs": [],
   "source": [
    "import pandas as pd"
   ]
  },
  {
   "cell_type": "code",
   "execution_count": 8,
   "id": "2d823b3e",
   "metadata": {
    "ExecuteTime": {
     "end_time": "2022-08-04T15:32:22.840041Z",
     "start_time": "2022-08-04T15:32:22.791030Z"
    }
   },
   "outputs": [],
   "source": [
    "df_pv = pd.read_csv('pv_train_set4.csv')\n",
    "df_pv.index = pd.to_datetime(df_pv['datetime'])\n",
    "df_pv.drop('datetime', axis=1, inplace=True)"
   ]
  },
  {
   "cell_type": "code",
   "execution_count": 23,
   "id": "a7f5f04d",
   "metadata": {
    "ExecuteTime": {
     "end_time": "2022-08-04T15:40:57.904510Z",
     "start_time": "2022-08-04T15:40:57.854512Z"
    }
   },
   "outputs": [],
   "source": [
    "df_demand = pd.read_csv('demand_train_set4.csv')\n",
    "df_demand.index = pd.to_datetime(df_demand['datetime'])\n",
    "df_demand.drop('datetime', axis=1, inplace=True)"
   ]
  },
  {
   "cell_type": "code",
   "execution_count": 21,
   "id": "1f995f36",
   "metadata": {
    "ExecuteTime": {
     "end_time": "2022-08-04T15:40:50.515247Z",
     "start_time": "2022-08-04T15:40:50.439239Z"
    }
   },
   "outputs": [],
   "source": [
    "df_weather = pd.read_csv('weather_train_set4.csv')\n",
    "df_weather.index = pd.to_datetime(df_weather['datetime'])\n",
    "df_weather.drop('datetime', axis=1, inplace=True)"
   ]
  },
  {
   "cell_type": "code",
   "execution_count": null,
   "id": "c8924c26",
   "metadata": {},
   "outputs": [],
   "source": []
  }
 ],
 "metadata": {
  "kernelspec": {
   "display_name": "Python 3 (ipykernel)",
   "language": "python",
   "name": "python3"
  },
  "language_info": {
   "codemirror_mode": {
    "name": "ipython",
    "version": 3
   },
   "file_extension": ".py",
   "mimetype": "text/x-python",
   "name": "python",
   "nbconvert_exporter": "python",
   "pygments_lexer": "ipython3",
   "version": "3.8.0"
  },
  "varInspector": {
   "cols": {
    "lenName": 16,
    "lenType": 16,
    "lenVar": 40
   },
   "kernels_config": {
    "python": {
     "delete_cmd_postfix": "",
     "delete_cmd_prefix": "del ",
     "library": "var_list.py",
     "varRefreshCmd": "print(var_dic_list())"
    },
    "r": {
     "delete_cmd_postfix": ") ",
     "delete_cmd_prefix": "rm(",
     "library": "var_list.r",
     "varRefreshCmd": "cat(var_dic_list()) "
    }
   },
   "types_to_exclude": [
    "module",
    "function",
    "builtin_function_or_method",
    "instance",
    "_Feature"
   ],
   "window_display": false
  }
 },
 "nbformat": 4,
 "nbformat_minor": 5
}
